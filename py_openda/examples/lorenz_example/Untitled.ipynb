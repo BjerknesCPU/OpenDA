{
 "cells": [
  {
   "cell_type": "markdown",
   "metadata": {},
   "source": [
    "Just initialize the connection to the Java virtual machine"
   ]
  },
  {
   "cell_type": "code",
   "execution_count": 1,
   "metadata": {},
   "outputs": [],
   "source": [
    "import os\n",
    "from py4j.java_gateway import JavaGateway\n",
    "\n",
    "gateway = JavaGateway()   # connect to the JVM\n",
    "\n",
    "scriptdir = os.getcwd() # Location of script, used to find configuration files"
   ]
  },
  {
   "cell_type": "markdown",
   "metadata": {},
   "source": [
    "Some utility routines we should use them from the py_openda package but that does not work now. Hence a shortcut."
   ]
  },
  {
   "cell_type": "code",
   "execution_count": 2,
   "metadata": {},
   "outputs": [],
   "source": [
    "def initialize_openda_configurable(openda_configurable, input_dir, config_xml):\n",
    "    \"\"\"\n",
    "    Initialise an OpenDA configurable (e.g. ModelFactory, StochObserver).\n",
    "\n",
    "    :param openda_configurable: OpenDA object implementing IConfigurable.\n",
    "    :param input_dir: Working directory/input directory.\n",
    "    :param config_xml: Configuration file.\n",
    "    :return:\n",
    "    \"\"\"\n",
    "\n",
    "    # Translate the input strings to java objects (File and String array)\n",
    "    j_input_dir = gateway.jvm.java.io.File(input_dir)\n",
    "    string_class = gateway.jvm.String\n",
    "    j_arguments = gateway.new_array(string_class, 1)\n",
    "    j_arguments[0] = config_xml\n",
    "\n",
    "    # Initialize ..\n",
    "    openda_configurable.initialize(j_input_dir, j_arguments)\n",
    "    \n",
    "def py_list_to_j_array(py_x):\n",
    "    \"\"\"\n",
    "    Create a java double array from python list\n",
    "\n",
    "    :param py_x: python list of doubles\n",
    "    :return: java array of doubles copy of py_x\n",
    "    \"\"\"\n",
    "    n = len (py_x)\n",
    "    double_class = gateway.jvm.double\n",
    "    j_x = gateway.new_array(double_class, n)\n",
    "\n",
    "    for i in range(n):\n",
    "        j_x[i]=py_x[i]\n",
    "\n",
    "    return j_x\n",
    "\n",
    "def j_array_to_py_list(j_x):\n",
    "    \"\"\"\n",
    "    Create a python list from a java array\n",
    "    :param j_x: java array\n",
    "    :return: python list with values of j_x\n",
    "    \"\"\"\n",
    "\n",
    "    n = len(j_x)\n",
    "    py_x =[None]*n\n",
    "    for i in range(n):\n",
    "        py_x[i]=j_x[i]\n",
    "\n",
    "    return py_x"
   ]
  },
  {
   "cell_type": "markdown",
   "metadata": {},
   "source": [
    "We initialize our lorenz model and observation database (stoch observer). The only thing we do here is set the configuration files of these building blocks and initialize them (note both are called \"configurable\" in OpenDA)"
   ]
  },
  {
   "cell_type": "code",
   "execution_count": 3,
   "metadata": {},
   "outputs": [],
   "source": [
    "    #Initialize the model factory\n",
    "    #model_input_dir = \"/Users/nils/Develop/py4j/swanModel/config\"\n",
    "    model_input_dir = os.path.join(scriptdir, 'model')\n",
    "    model_config_xml = \"LorenzStochModel.xml\"\n",
    "\n",
    "\n",
    "    model_factory = gateway.jvm.org.openda.models.lorenz.LorenzStochModelFactory()\n",
    "    initialize_openda_configurable(model_factory, model_input_dir, model_config_xml)\n",
    "\n",
    "    #Initialize stoch observer\n",
    "    observer_input_dir = os.path.join(scriptdir, 'observations')\n",
    "    observer_config_xml = \"observations_lorenz_generated.csv\"\n",
    "\n",
    "    observer = gateway.jvm.org.openda.observers.CsvStochObserver()\n",
    "    initialize_openda_configurable(observer, observer_input_dir, observer_config_xml)\n"
   ]
  },
  {
   "cell_type": "markdown",
   "metadata": {},
   "source": [
    "Just play a bit with an instance of the Lorenz model.\n",
    "* Create an instance\n",
    "* get simulation horizon\n",
    "* Plot the initial state\n",
    "* Add pertubation to state AXPY -> Y=A*X+Y (Y interal model state, X and A are given arguments)"
   ]
  },
  {
   "cell_type": "code",
   "execution_count": 4,
   "metadata": {},
   "outputs": [],
   "source": [
    "outputLevel = gateway.jvm.org.openda.interfaces.IStochModelFactory.OutputLevel.Debug\n",
    "x1=model_factory.getInstance(outputLevel);"
   ]
  },
  {
   "cell_type": "code",
   "execution_count": 5,
   "metadata": {},
   "outputs": [
    {
     "name": "stdout",
     "output_type": "stream",
     "text": [
      "0.0:0.025:30.0\n"
     ]
    }
   ],
   "source": [
    "print(x1.getTimeHorizon())"
   ]
  },
  {
   "cell_type": "code",
   "execution_count": 6,
   "metadata": {},
   "outputs": [
    {
     "name": "stdout",
     "output_type": "stream",
     "text": [
      "[1.50888, -1.531271, 25.46091]\n"
     ]
    }
   ],
   "source": [
    "print(j_array_to_py_list(x1.getState().getValues()))"
   ]
  },
  {
   "cell_type": "code",
   "execution_count": 10,
   "metadata": {},
   "outputs": [
    {
     "name": "stdout",
     "output_type": "stream",
     "text": [
      "[-1.0, 1.0, 2.0]\n"
     ]
    }
   ],
   "source": [
    "dx=x1.getState();   #Just get a java treevector of size and shape of state vector\n",
    "dx.setValues(py_list_to_j_array([-1.0, 1.0, 2.0])) #Set some values in dx\n",
    "print(j_array_to_py_list(dx.getValues()))"
   ]
  },
  {
   "cell_type": "code",
   "execution_count": 11,
   "metadata": {},
   "outputs": [
    {
     "name": "stdout",
     "output_type": "stream",
     "text": [
      "[0.50888, 0.46872899999999995, 29.46091]\n"
     ]
    }
   ],
   "source": [
    "x1.axpyOnState(1.0, dx)  # state = state + 1.0*dx\n",
    "print(j_array_to_py_list(x1.getState().getValues()))"
   ]
  },
  {
   "cell_type": "code",
   "execution_count": 13,
   "metadata": {},
   "outputs": [],
   "source": [
    "m3=model_factory.getInstance(outputLevel)\n",
    "x1=[]\n",
    "for t in range(100):\n",
    "    tstop=gateway.jvm.org.openda.utils.Time(0.1*t)\n",
    "    m3.compute(tstop)\n",
    "    #print(m3.getCurrentTime())\n",
    "    xval1=j_array_to_py_list(m3.getState().getValues())\n",
    "    x1.append(xval1[0])\n",
    "    "
   ]
  },
  {
   "cell_type": "code",
   "execution_count": 14,
   "metadata": {},
   "outputs": [
    {
     "data": {
      "text/plain": [
       "[<matplotlib.lines.Line2D at 0x115083278>]"
      ]
     },
     "execution_count": 14,
     "metadata": {},
     "output_type": "execute_result"
    },
    {
     "data": {
      "image/png": "[encoded data removed]",
      "text/plain": [
       "<Figure size 432x288 with 1 Axes>"
      ]
     },
     "metadata": {
      "needs_background": "light"
     },
     "output_type": "display_data"
    }
   ],
   "source": [
    "import matplotlib.pyplot as plt\n",
    "plt.plot(x1)"
   ]
  },
  {
   "cell_type": "code",
   "execution_count": null,
   "metadata": {},
   "outputs": [],
   "source": []
  }
 ],
 "metadata": {
  "kernelspec": {
   "display_name": "Python 3",
   "language": "python",
   "name": "python3"
  },
  "language_info": {
   "codemirror_mode": {
    "name": "ipython",
    "version": 3
   },
   "file_extension": ".py",
   "mimetype": "text/x-python",
   "name": "python",
   "nbconvert_exporter": "python",
   "pygments_lexer": "ipython3",
   "version": "3.6.10"
  }
 },
 "nbformat": 4,
 "nbformat_minor": 2
}
