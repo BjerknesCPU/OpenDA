{
 "cells": [
  {
   "cell_type": "code",
   "execution_count": 8,
   "metadata": {},
   "outputs": [],
   "source": [
    "import os\n",
    "from py4j.java_gateway import JavaGateway\n",
    "from scipy.optimize import minimize\n",
    "\n",
    "\n",
    "gateway = JavaGateway()   # connect to the JVM\n",
    "\n",
    "scriptdir = os.getcwd()\n",
    "\n",
    "\n",
    "model_params = None   # Model paremeter vector. Only used for fast cloning\n",
    "cost_funtion = None   # OpenDA cost function"
   ]
  },
  {
   "cell_type": "code",
   "execution_count": 9,
   "metadata": {},
   "outputs": [],
   "source": [
    "import calibrate_swan\n",
    "def py_list_to_j_array(py_x):\n",
    "    \"\"\"\n",
    "    Create a java double array from python list\n",
    "\n",
    "    :param py_x: python list of doubles\n",
    "    :return: java array of doubles copy of py_x\n",
    "    \"\"\"\n",
    "    n = len (py_x)\n",
    "    double_class = gateway.jvm.double\n",
    "    j_x = gateway.new_array(double_class, n)\n",
    "\n",
    "    for i in range(n):\n",
    "        j_x[i]=py_x[i]\n",
    "\n",
    "    return j_x\n",
    "\n",
    "def j_array_to_py_list(j_x):\n",
    "    \"\"\"\n",
    "    Create a python list from a java array\n",
    "    :param j_x: java array\n",
    "    :return: python list with values of j_x\n",
    "    \"\"\"\n",
    "\n",
    "    n = len(j_x)\n",
    "    py_x =[None]*n\n",
    "    for i in range(n):\n",
    "        py_x[i]=j_x[i]\n",
    "\n",
    "    return py_x\n",
    "\n",
    "\n",
    "def initialize_openda_configurable(openda_configurable, input_dir, config_xml):\n",
    "    \"\"\"\n",
    "    Initialise an OpenDA configurable (e.g. ModelFactory, StochObserver)\n",
    "\n",
    "    :param openda_configurable: OpenDA object implementing IConfigurable\n",
    "    :param input_dir: Working directory/input directory\n",
    "    :param config_xml: Configuration file\n",
    "    :return:\n",
    "    \"\"\"\n",
    "\n",
    "    # Translate the input strings to java objects (File and String array)\n",
    "    j_input_dir = gateway.jvm.java.io.File(input_dir)\n",
    "    string_class = gateway.jvm.String\n",
    "    j_arguments = gateway.new_array(string_class, 1)\n",
    "    j_arguments[0] = config_xml\n",
    "\n",
    "    # Initialize ..\n",
    "    openda_configurable.initialize(j_input_dir, j_arguments)\n",
    "\n"
   ]
  },
  {
   "cell_type": "code",
   "execution_count": 10,
   "metadata": {},
   "outputs": [],
   "source": [
    "model_input_dir = os.path.join(scriptdir, 'swanModel', 'config')\n",
    "model_config_xml = \"swanStochModelConfig.xml\"\n",
    "\n",
    "\n",
    "model_factory = gateway.jvm.org.openda.model_swan.SwanCalibStochModelFactory()\n",
    "initialize_openda_configurable(model_factory, model_input_dir, model_config_xml)\n",
    "\n",
    "#Initialize stoch observer\n",
    "#observer_input_dir = \"/Users/nils/Develop/py4j/stochObserver\"\n",
    "observer_input_dir = model_input_dir = os.path.join(scriptdir, 'stochObserver')\n",
    "observer_config_xml = \"swanStochObsConfig.xml\"\n",
    "\n",
    "observer = gateway.jvm.org.openda.observers.IoObjectStochObserver()\n",
    "initialize_openda_configurable(observer, observer_input_dir, observer_config_xml)\n",
    "\n",
    "#Initialize cost function org.openda.algorithms\n",
    "cost_funtion = gateway.jvm.org.openda.algorithms.SimulationKwadraticCostFunction(model_factory, observer)\n",
    "\n",
    "\n",
    "#Get initial parameter\n",
    "outputLevel = gateway.jvm.org.openda.interfaces.IStochModelFactory.OutputLevel.Debug\n",
    "model_ini = model_factory.getInstance(outputLevel)\n",
    "p = model_ini.getParameters()\n",
    "model_params= p"
   ]
  },
  {
   "cell_type": "code",
   "execution_count": 12,
   "metadata": {},
   "outputs": [],
   "source": [
    "x=model_ini.getParameters();\n"
   ]
  },
  {
   "cell_type": "code",
   "execution_count": 17,
   "metadata": {},
   "outputs": [
    {
     "name": "stdout",
     "output_type": "stream",
     "text": [
      "[0.05, 2.5]\n"
     ]
    }
   ],
   "source": [
    "print (j_array_to_py_list(x.getValues()))\n"
   ]
  },
  {
   "cell_type": "code",
   "execution_count": 18,
   "metadata": {},
   "outputs": [
    {
     "ename": "Py4JJavaError",
     "evalue": "An error occurred while calling o8.getState.\n: java.lang.UnsupportedOperationException: org.openda.model_swan.SwanCalibWrapper: Method not implemented yet.\n\tat org.openda.model_swan.SwanCalibWrapper.getState(SwanCalibWrapper.java:427)\n\tat sun.reflect.NativeMethodAccessorImpl.invoke0(Native Method)\n\tat sun.reflect.NativeMethodAccessorImpl.invoke(NativeMethodAccessorImpl.java:62)\n\tat sun.reflect.DelegatingMethodAccessorImpl.invoke(DelegatingMethodAccessorImpl.java:43)\n\tat java.lang.reflect.Method.invoke(Method.java:498)\n\tat py4j.reflection.MethodInvoker.invoke(MethodInvoker.java:244)\n\tat py4j.reflection.ReflectionEngine.invoke(ReflectionEngine.java:357)\n\tat py4j.Gateway.invoke(Gateway.java:282)\n\tat py4j.commands.AbstractCommand.invokeMethod(AbstractCommand.java:132)\n\tat py4j.commands.CallCommand.execute(CallCommand.java:79)\n\tat py4j.GatewayConnection.run(GatewayConnection.java:214)\n\tat java.lang.Thread.run(Thread.java:748)\n",
     "output_type": "error",
     "traceback": [
      "\u001b[0;31m---------------------------------------------------------------------------\u001b[0m",
      "\u001b[0;31mPy4JJavaError\u001b[0m                             Traceback (most recent call last)",
      "\u001b[0;32m<ipython-input-18-c9133c31b574>\u001b[0m in \u001b[0;36m<module>\u001b[0;34m\u001b[0m\n\u001b[0;32m----> 1\u001b[0;31m \u001b[0mx2\u001b[0m\u001b[0;34m=\u001b[0m\u001b[0mmodel_ini\u001b[0m\u001b[0;34m.\u001b[0m\u001b[0mgetState\u001b[0m\u001b[0;34m(\u001b[0m\u001b[0;34m)\u001b[0m\u001b[0;34m;\u001b[0m\u001b[0;34m\u001b[0m\u001b[0;34m\u001b[0m\u001b[0m\n\u001b[0m",
      "\u001b[0;32m~/opt/anaconda3/envs/openda/lib/python3.6/site-packages/py4j/java_gateway.py\u001b[0m in \u001b[0;36m__call__\u001b[0;34m(self, *args)\u001b[0m\n\u001b[1;32m   1284\u001b[0m         \u001b[0manswer\u001b[0m \u001b[0;34m=\u001b[0m \u001b[0mself\u001b[0m\u001b[0;34m.\u001b[0m\u001b[0mgateway_client\u001b[0m\u001b[0;34m.\u001b[0m\u001b[0msend_command\u001b[0m\u001b[0;34m(\u001b[0m\u001b[0mcommand\u001b[0m\u001b[0;34m)\u001b[0m\u001b[0;34m\u001b[0m\u001b[0;34m\u001b[0m\u001b[0m\n\u001b[1;32m   1285\u001b[0m         return_value = get_return_value(\n\u001b[0;32m-> 1286\u001b[0;31m             answer, self.gateway_client, self.target_id, self.name)\n\u001b[0m\u001b[1;32m   1287\u001b[0m \u001b[0;34m\u001b[0m\u001b[0m\n\u001b[1;32m   1288\u001b[0m         \u001b[0;32mfor\u001b[0m \u001b[0mtemp_arg\u001b[0m \u001b[0;32min\u001b[0m \u001b[0mtemp_args\u001b[0m\u001b[0;34m:\u001b[0m\u001b[0;34m\u001b[0m\u001b[0;34m\u001b[0m\u001b[0m\n",
      "\u001b[0;32m~/opt/anaconda3/envs/openda/lib/python3.6/site-packages/py4j/protocol.py\u001b[0m in \u001b[0;36mget_return_value\u001b[0;34m(answer, gateway_client, target_id, name)\u001b[0m\n\u001b[1;32m    326\u001b[0m                 raise Py4JJavaError(\n\u001b[1;32m    327\u001b[0m                     \u001b[0;34m\"An error occurred while calling {0}{1}{2}.\\n\"\u001b[0m\u001b[0;34m.\u001b[0m\u001b[0;34m\u001b[0m\u001b[0;34m\u001b[0m\u001b[0m\n\u001b[0;32m--> 328\u001b[0;31m                     format(target_id, \".\", name), value)\n\u001b[0m\u001b[1;32m    329\u001b[0m             \u001b[0;32melse\u001b[0m\u001b[0;34m:\u001b[0m\u001b[0;34m\u001b[0m\u001b[0;34m\u001b[0m\u001b[0m\n\u001b[1;32m    330\u001b[0m                 raise Py4JError(\n",
      "\u001b[0;31mPy4JJavaError\u001b[0m: An error occurred while calling o8.getState.\n: java.lang.UnsupportedOperationException: org.openda.model_swan.SwanCalibWrapper: Method not implemented yet.\n\tat org.openda.model_swan.SwanCalibWrapper.getState(SwanCalibWrapper.java:427)\n\tat sun.reflect.NativeMethodAccessorImpl.invoke0(Native Method)\n\tat sun.reflect.NativeMethodAccessorImpl.invoke(NativeMethodAccessorImpl.java:62)\n\tat sun.reflect.DelegatingMethodAccessorImpl.invoke(DelegatingMethodAccessorImpl.java:43)\n\tat java.lang.reflect.Method.invoke(Method.java:498)\n\tat py4j.reflection.MethodInvoker.invoke(MethodInvoker.java:244)\n\tat py4j.reflection.ReflectionEngine.invoke(ReflectionEngine.java:357)\n\tat py4j.Gateway.invoke(Gateway.java:282)\n\tat py4j.commands.AbstractCommand.invokeMethod(AbstractCommand.java:132)\n\tat py4j.commands.CallCommand.execute(CallCommand.java:79)\n\tat py4j.GatewayConnection.run(GatewayConnection.java:214)\n\tat java.lang.Thread.run(Thread.java:748)\n"
     ]
    }
   ],
   "source": [
    "x2=model_ini.getState();"
   ]
  },
  {
   "cell_type": "code",
   "execution_count": null,
   "metadata": {},
   "outputs": [],
   "source": []
  }
 ],
 "metadata": {
  "kernelspec": {
   "display_name": "Python 3",
   "language": "python",
   "name": "python3"
  },
  "language_info": {
   "codemirror_mode": {
    "name": "ipython",
    "version": 3
   },
   "file_extension": ".py",
   "mimetype": "text/x-python",
   "name": "python",
   "nbconvert_exporter": "python",
   "pygments_lexer": "ipython3",
   "version": "3.6.10"
  }
 },
 "nbformat": 4,
 "nbformat_minor": 2
}
